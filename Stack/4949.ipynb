{
 "cells": [
  {
   "cell_type": "code",
   "execution_count": 1,
   "metadata": {},
   "outputs": [
    {
     "name": "stdout",
     "output_type": "stream",
     "text": [
      "yes\n",
      "yes\n",
      "no\n",
      "no\n",
      "no\n",
      "yes\n",
      "yes\n"
     ]
    }
   ],
   "source": [
    "\n",
    "\n",
    "while True:\n",
    "    ans = input()\n",
    "    dab = \"yes\"\n",
    "    stack = []\n",
    "\n",
    "    if ans == '.':\n",
    "        break\n",
    "\n",
    "    for i in ans:\n",
    "        if i == '(':\n",
    "            stack.append(i)\n",
    "        elif i == '[':\n",
    "            stack.append(i)\n",
    "        \n",
    "        elif i == ')':\n",
    "            if stack == []:\n",
    "                dab = \"no\"\n",
    "                break\n",
    "            else:\n",
    "                if stack.pop() != '(':\n",
    "                    dab = \"no\"\n",
    "                    break\n",
    "        \n",
    "        elif i == ']':\n",
    "            if stack == []:\n",
    "                dab = \"no\"\n",
    "                break\n",
    "            else:\n",
    "                if stack.pop() != '[':\n",
    "                    dab = \"no\"\n",
    "                    break\n",
    "        else:\n",
    "            continue\n",
    "\n",
    "    if stack != []:\n",
    "        dab = \"no\"\n",
    "    print(dab)\n",
    "\n",
    "\n",
    "\n",
    "\n",
    "\n",
    "\n",
    "# ()   ([])"
   ]
  },
  {
   "cell_type": "code",
   "execution_count": 11,
   "metadata": {},
   "outputs": [
    {
     "name": "stdout",
     "output_type": "stream",
     "text": [
      "b\n",
      "['a', 'c']\n"
     ]
    }
   ],
   "source": [
    "li = [\"a\",\"b\",\"c\"]\n",
    "\n",
    "print(li.pop(-2))\n",
    "print(li)"
   ]
  },
  {
   "cell_type": "code",
   "execution_count": 2,
   "metadata": {},
   "outputs": [
    {
     "name": "stdout",
     "output_type": "stream",
     "text": [
      "1\n"
     ]
    }
   ],
   "source": [
    "while True:\n",
    "    print(1)\n",
    "    break"
   ]
  }
 ],
 "metadata": {
  "kernelspec": {
   "display_name": "Python 3",
   "language": "python",
   "name": "python3"
  },
  "language_info": {
   "codemirror_mode": {
    "name": "ipython",
    "version": 3
   },
   "file_extension": ".py",
   "mimetype": "text/x-python",
   "name": "python",
   "nbconvert_exporter": "python",
   "pygments_lexer": "ipython3",
   "version": "3.10.9"
  }
 },
 "nbformat": 4,
 "nbformat_minor": 2
}
