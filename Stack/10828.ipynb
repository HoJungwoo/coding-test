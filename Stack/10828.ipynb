{
 "cells": [
  {
   "cell_type": "code",
   "execution_count": 10,
   "metadata": {},
   "outputs": [
    {
     "name": "stdout",
     "output_type": "stream",
     "text": [
      "-1\n",
      "-1\n",
      "123\n",
      "123\n",
      "-1\n",
      "-1\n"
     ]
    }
   ],
   "source": [
    "import sys\n",
    "\n",
    "N = int(sys.stdin.readline())\n",
    "stack = []\n",
    "\n",
    "for i in range(N):\n",
    "    a = sys.stdin.readline().split()\n",
    "\n",
    "    if a[0] == \"push\":\n",
    "        stack.append(a[1])\n",
    "\n",
    "    elif a[0] == \"pop\":\n",
    "        if stack == []:\n",
    "            print(-1)\n",
    "            continue\n",
    "        print(stack.pop())\n",
    "\n",
    "    elif a[0] == \"size\":\n",
    "        print(len(stack))\n",
    "\n",
    "    elif a[0] == \"empty\":\n",
    "        if stack == []:\n",
    "            print(1)\n",
    "        else:\n",
    "            print(0)\n",
    "\n",
    "    elif a[0] == \"top\":\n",
    "        if stack == []:\n",
    "            print(-1)\n",
    "            continue\n",
    "        print(stack[-1])\n"
   ]
  },
  {
   "cell_type": "code",
   "execution_count": 9,
   "metadata": {},
   "outputs": [
    {
     "name": "stdout",
     "output_type": "stream",
     "text": [
      "[1, 2]\n",
      "2\n"
     ]
    }
   ],
   "source": [
    "li = [1,2]\n",
    "\n",
    "\n",
    "\n",
    "print(li)\n",
    "print(len(li))"
   ]
  }
 ],
 "metadata": {
  "kernelspec": {
   "display_name": "Python 3",
   "language": "python",
   "name": "python3"
  },
  "language_info": {
   "codemirror_mode": {
    "name": "ipython",
    "version": 3
   },
   "file_extension": ".py",
   "mimetype": "text/x-python",
   "name": "python",
   "nbconvert_exporter": "python",
   "pygments_lexer": "ipython3",
   "version": "3.10.9"
  }
 },
 "nbformat": 4,
 "nbformat_minor": 2
}
